{
 "cells": [
  {
   "cell_type": "markdown",
   "id": "4622cf47-6514-412c-95e0-1603768bca77",
   "metadata": {},
   "source": [
    "## 2)\n"
   ]
  },
  {
   "cell_type": "code",
   "execution_count": 1,
   "id": "ad3e33de-913c-4664-821a-abdb18a2b964",
   "metadata": {},
   "outputs": [
    {
     "name": "stdout",
     "output_type": "stream",
     "text": [
      "True\n"
     ]
    }
   ],
   "source": [
    "### a)\n",
    "string = \"Hello, World!\"\n",
    "startsWithLetter = lambda s, letter: s.startswith(letter)\n",
    "result = startsWithLetter(string, 'H')\n",
    "print(result) "
   ]
  },
  {
   "cell_type": "code",
   "execution_count": 2,
   "id": "f7c7c763-18fa-4ab8-b0fa-44c09dcac8dc",
   "metadata": {},
   "outputs": [
    {
     "name": "stdout",
     "output_type": "stream",
     "text": [
      "True\n"
     ]
    }
   ],
   "source": [
    "### b)\n",
    "string = \"12345\"\n",
    "isNumeric = lambda s: s.isnumeric()\n",
    "result = isNumeric(string)\n",
    "print(result)  # True\n"
   ]
  },
  {
   "cell_type": "code",
   "execution_count": 3,
   "id": "b52c01a8-246b-4767-a85d-1d37daa7d9d5",
   "metadata": {},
   "outputs": [
    {
     "name": "stdout",
     "output_type": "stream",
     "text": [
      "[('orange', 80), ('mango', 99), ('grapes', 1000)]\n"
     ]
    }
   ],
   "source": [
    "### c)\n",
    "fruits = [(\"mango\", 99), (\"orange\", 80), (\"grapes\", 1000)]\n",
    "sortedFruits = sorted(fruits, key=lambda x: x[1])\n",
    "print(sortedFruits)  # [('orange', 80), ('mango', 99), ('grapes', 1000)]\n"
   ]
  },
  {
   "cell_type": "code",
   "execution_count": 4,
   "id": "d6b46b4f-3986-45b9-8d9f-6b8957cbc480",
   "metadata": {},
   "outputs": [
    {
     "name": "stdout",
     "output_type": "stream",
     "text": [
      "[1, 4, 9, 16, 25, 36, 49, 64, 81, 100]\n"
     ]
    }
   ],
   "source": [
    "### d)\n",
    "squares = [num**2 for num in range(1, 11)]\n",
    "print(squares)  # [1, 4, 9, 16, 25, 36, 49, 64, 81, 100]\n"
   ]
  },
  {
   "cell_type": "code",
   "execution_count": 5,
   "id": "453bc67c-de7e-4bdd-b1d3-b879f47711b6",
   "metadata": {},
   "outputs": [
    {
     "name": "stdout",
     "output_type": "stream",
     "text": [
      "[1.0, 1.2599210498948732, 1.4422495703074083, 1.5874010519681994, 1.7099759466766968, 1.8171205928321397, 1.912931182772389, 2.0, 2.080083823051904, 2.154434690031884]\n"
     ]
    }
   ],
   "source": [
    "### e)\n",
    "import math\n",
    "cubeRoots = [math.pow(num, 1/3) for num in range(1, 11)]\n",
    "print(cubeRoots)  # [1.0, 1.2599210498948732, 1.4422495703074083, 1.5874010519681994, 1.7099759466766968, 1.8171205928321397, 1.912931182772389, 2.0, 2.080084356079128, 2.154434690031884]\n"
   ]
  },
  {
   "cell_type": "code",
   "execution_count": null,
   "id": "f3f3f8ee-af2d-4aef-9ca2-128022da2355",
   "metadata": {},
   "outputs": [],
   "source": []
  }
 ],
 "metadata": {
  "kernelspec": {
   "display_name": "Python 3 (ipykernel)",
   "language": "python",
   "name": "python3"
  },
  "language_info": {
   "codemirror_mode": {
    "name": "ipython",
    "version": 3
   },
   "file_extension": ".py",
   "mimetype": "text/x-python",
   "name": "python",
   "nbconvert_exporter": "python",
   "pygments_lexer": "ipython3",
   "version": "3.10.8"
  }
 },
 "nbformat": 4,
 "nbformat_minor": 5
}
